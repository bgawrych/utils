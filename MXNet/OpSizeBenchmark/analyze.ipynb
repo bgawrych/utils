{
 "cells": [
  {
   "cell_type": "code",
   "execution_count": null,
   "metadata": {},
   "outputs": [],
   "source": [
    "import re\n",
    "import numpy as np\n",
    "import pandas as pd\n",
    "import multiprocessing as mp\n",
    "import matplotlib.pyplot as plt\n",
    "pd.options.plotting.backend = \"plotly\"\n",
    "import plotly.express as px\n",
    "from os import listdir\n",
    "from os.path import isfile, join"
   ]
  },
  {
   "cell_type": "code",
   "execution_count": null,
   "metadata": {},
   "outputs": [],
   "source": [
    "def draw_graphs(onednn_path, native_path):\n",
    "    a = pd.read_csv(onednn_path, delimiter=';')\n",
    "    b = pd.read_csv(native_path, delimiter=';')\n",
    "    a['name'] = a.iloc[:,:-1].astype(str).apply(\"_\".join, axis=1) # concat columns as name\n",
    "    b['name'] = a.iloc[:,:-1].astype(str).apply(\"_\".join, axis=1)\n",
    "    c = a[['name', 'time']].rename(columns={'time':'onednn', 'name':'descriptor'})\n",
    "    c = pd.concat([c, b[['time']].rename(columns={'time':'native'})], axis=1)\n",
    "    fig = px.line(c, x='descriptor', y=['native', 'onednn'], title=f'{onednn_path.split(\"/\")[-1]}')\n",
    "    fig.show()\n"
   ]
  },
  {
   "cell_type": "code",
   "execution_count": null,
   "metadata": {},
   "outputs": [],
   "source": [
    "def get_all_files(foldername):\n",
    "    all_files = [(f\"{filename}\", f\"{foldername}/{filename}\") for filename in listdir(foldername) if isfile(join(foldername, filename))]\n",
    "    return all_files\n",
    "onednn_logs = get_all_files('./onednn_mxnet')\n",
    "native_logs = get_all_files('./native_mxnet')\n",
    "\n",
    "#for a, b in zip(onednn_logs, native_logs):\n",
    "#    assert a[0] == b[0], \"File difference\"\n",
    "#    print(a[0], b[0])\n",
    "#    draw_graphs(a[1], b[1])\n",
    "idx = 11\n",
    "draw_graphs(onednn_logs[idx][1], native_logs[idx][1])"
   ]
  },
  {
   "cell_type": "code",
   "execution_count": null,
   "metadata": {},
   "outputs": [],
   "source": []
  }
 ],
 "metadata": {
  "kernelspec": {
   "display_name": "Python 3.9.12 ('base')",
   "language": "python",
   "name": "python3"
  },
  "language_info": {
   "codemirror_mode": {
    "name": "ipython",
    "version": 3
   },
   "file_extension": ".py",
   "mimetype": "text/x-python",
   "name": "python",
   "nbconvert_exporter": "python",
   "pygments_lexer": "ipython3",
   "version": "3.9.12"
  },
  "orig_nbformat": 4,
  "vscode": {
   "interpreter": {
    "hash": "2a2674ded21c87e736731dd358ee8dabc92c7b60000197a1ada58a885ae2b6fc"
   }
  }
 },
 "nbformat": 4,
 "nbformat_minor": 2
}
